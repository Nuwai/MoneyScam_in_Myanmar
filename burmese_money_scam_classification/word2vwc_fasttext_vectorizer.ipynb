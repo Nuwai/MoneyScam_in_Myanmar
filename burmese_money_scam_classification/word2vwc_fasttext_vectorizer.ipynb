{
 "cells": [
  {
   "cell_type": "code",
   "execution_count": 3,
   "metadata": {},
   "outputs": [],
   "source": [
    "from gensim.models import Word2Vec, FastText\n",
    "import pandas as pd\n",
    "import preprocess_text\n",
    "import os\n"
   ]
  },
  {
   "cell_type": "code",
   "execution_count": null,
   "metadata": {},
   "outputs": [],
   "source": [
    "#script_dir = os.path.dirname(__file__)\n",
    "data_path = os.path.join(os.getcwd(), \"data/preprocessed_data.xlsx\")\n",
    "# Load the dataset\n",
    "df = pd.read_excel(data_path)"
   ]
  },
  {
   "cell_type": "code",
   "execution_count": 8,
   "metadata": {},
   "outputs": [
    {
     "data": {
      "text/html": [
       "<div>\n",
       "<style scoped>\n",
       "    .dataframe tbody tr th:only-of-type {\n",
       "        vertical-align: middle;\n",
       "    }\n",
       "\n",
       "    .dataframe tbody tr th {\n",
       "        vertical-align: top;\n",
       "    }\n",
       "\n",
       "    .dataframe thead th {\n",
       "        text-align: right;\n",
       "    }\n",
       "</style>\n",
       "<table border=\"1\" class=\"dataframe\">\n",
       "  <thead>\n",
       "    <tr style=\"text-align: right;\">\n",
       "      <th></th>\n",
       "      <th>Unnamed: 0</th>\n",
       "      <th>text</th>\n",
       "      <th>label</th>\n",
       "      <th>processed_text</th>\n",
       "      <th>emoji_count</th>\n",
       "      <th>hashtag_count</th>\n",
       "      <th>punctuation_counts</th>\n",
       "    </tr>\n",
       "  </thead>\n",
       "  <tbody>\n",
       "    <tr>\n",
       "      <th>0</th>\n",
       "      <td>0</td>\n",
       "      <td>❝ မိုးလင်းတာနဲ့ မောနီးဆိုပြီးပို့မယ့်သူတော့မရှ...</td>\n",
       "      <td>1</td>\n",
       "      <td>မိုး လင်း မော နီး ပို့ မယ့် ငွေ ထုတ် ပို့ တန်း...</td>\n",
       "      <td>0</td>\n",
       "      <td>6</td>\n",
       "      <td>64</td>\n",
       "    </tr>\n",
       "    <tr>\n",
       "      <th>1</th>\n",
       "      <td>1</td>\n",
       "      <td>❝ လျောင့်တွေ ထတော့ထတော့ ဆိုဒ်ကွဲနေပြီထတော့\\nတေ...</td>\n",
       "      <td>1</td>\n",
       "      <td>လျောင့် ထ ထ ဆိုဒ် ကွဲ ထ တော သား အား အိပ်</td>\n",
       "      <td>0</td>\n",
       "      <td>0</td>\n",
       "      <td>0</td>\n",
       "    </tr>\n",
       "    <tr>\n",
       "      <th>2</th>\n",
       "      <td>2</td>\n",
       "      <td>❝ မင်္ဂလာရှိသော မနက်ခင်းလေးပါရှင့် ❞ \\n\\nစိတ်၏...</td>\n",
       "      <td>-1</td>\n",
       "      <td>မင်္ဂ နက် ခင်း ရှင့် စိတ် ချမ်း ကိုယ် ကျန်း မာ...</td>\n",
       "      <td>0</td>\n",
       "      <td>0</td>\n",
       "      <td>0</td>\n",
       "    </tr>\n",
       "    <tr>\n",
       "      <th>3</th>\n",
       "      <td>3</td>\n",
       "      <td>သုံးဆယ့်တစ်ဘုံ၌ ကျင်လည်ကြကုန်သော \\nလူ၊နတ်၊ဗြမ္...</td>\n",
       "      <td>-1</td>\n",
       "      <td>သုံး ဆယ့် ဘုံ ၌ ကျင် လည် ကုန် နတ် ဗြမ္မာ သတ္တ ...</td>\n",
       "      <td>0</td>\n",
       "      <td>0</td>\n",
       "      <td>23</td>\n",
       "    </tr>\n",
       "    <tr>\n",
       "      <th>4</th>\n",
       "      <td>4</td>\n",
       "      <td>⏰     ⏰\\n\\nမနက် (  ) နာရီထိရှိနေမှာမို့လို့ ယူ...</td>\n",
       "      <td>1</td>\n",
       "      <td>နက် နာ ရီ ထိ မို့ ယူ နစ် အပ် ရှ င့်</td>\n",
       "      <td>2</td>\n",
       "      <td>8</td>\n",
       "      <td>8</td>\n",
       "    </tr>\n",
       "  </tbody>\n",
       "</table>\n",
       "</div>"
      ],
      "text/plain": [
       "   Unnamed: 0                                               text  label  \\\n",
       "0           0  ❝ မိုးလင်းတာနဲ့ မောနီးဆိုပြီးပို့မယ့်သူတော့မရှ...      1   \n",
       "1           1  ❝ လျောင့်တွေ ထတော့ထတော့ ဆိုဒ်ကွဲနေပြီထတော့\\nတေ...      1   \n",
       "2           2  ❝ မင်္ဂလာရှိသော မနက်ခင်းလေးပါရှင့် ❞ \\n\\nစိတ်၏...     -1   \n",
       "3           3  သုံးဆယ့်တစ်ဘုံ၌ ကျင်လည်ကြကုန်သော \\nလူ၊နတ်၊ဗြမ္...     -1   \n",
       "4           4  ⏰     ⏰\\n\\nမနက် (  ) နာရီထိရှိနေမှာမို့လို့ ယူ...      1   \n",
       "\n",
       "                                      processed_text  emoji_count  \\\n",
       "0  မိုး လင်း မော နီး ပို့ မယ့် ငွေ ထုတ် ပို့ တန်း...            0   \n",
       "1         လျောင့် ထ ထ ဆိုဒ် ကွဲ ထ တော သား အား အိပ်              0   \n",
       "2  မင်္ဂ နက် ခင်း ရှင့် စိတ် ချမ်း ကိုယ် ကျန်း မာ...            0   \n",
       "3  သုံး ဆယ့် ဘုံ ၌ ကျင် လည် ကုန် နတ် ဗြမ္မာ သတ္တ ...            0   \n",
       "4              နက် နာ ရီ ထိ မို့ ယူ နစ် အပ် ရှ င့်              2   \n",
       "\n",
       "   hashtag_count  punctuation_counts  \n",
       "0              6                  64  \n",
       "1              0                   0  \n",
       "2              0                   0  \n",
       "3              0                  23  \n",
       "4              8                   8  "
      ]
     },
     "execution_count": 8,
     "metadata": {},
     "output_type": "execute_result"
    }
   ],
   "source": [
    "df.head()"
   ]
  },
  {
   "cell_type": "code",
   "execution_count": null,
   "metadata": {},
   "outputs": [
    {
     "name": "stdout",
     "output_type": "stream",
     "text": [
      "c:\\Users\\nuwai\\Documents\\Sophia_Skill_Development\\Sophia_projects\\Burmese Scam Detector\\burmese_money_scam_classification\n"
     ]
    }
   ],
   "source": [
    "df['processed_text']"
   ]
  },
  {
   "cell_type": "code",
   "execution_count": 9,
   "metadata": {},
   "outputs": [
    {
     "name": "stdout",
     "output_type": "stream",
     "text": [
      "0        [မိုး, လင်း, မော, နီး, ပို့, မယ့်, ငွေ, ထုတ်, ...\n",
      "1        [လျောင့်, ထ, ထ, ဆိုဒ်, ကွဲ, ထ, တော, သား, အား, ...\n",
      "2        [မင်္ဂ, နက်, ခင်း, ရှင့်, စိတ်, ချမ်း, ကိုယ်, ...\n",
      "3        [သုံး, ဆယ့်, ဘုံ, ၌, ကျင်, လည်, ကုန်, နတ်, ဗြမ...\n",
      "4           [နက်, နာ, ရီ, ထိ, မို့, ယူ, နစ်, အပ်, ရှ, င့်]\n",
      "                               ...                        \n",
      "19342    [အက်, တမ်, သက်, တမ်း, တိုး, သယ်, ဆောင်, ယ့်, ပ...\n",
      "19343    [ဂိမ်း, စား, ခွ, င့်, ဆ, ဆု, လက်, ဆောင်, ယူ, ဂ...\n",
      "19344    [မို, ဘိုင်း, ဟန်း, ဆက်, အ, သုံး, ပြု, ချမ်း, ...\n",
      "19345    [အက်, တမ်, ရုပ်, အ, တွက်, သ, တင်း, သ, ငံ, တ, က...\n",
      "19346    [ကံ, ထူး, ကံ, မြူး, သစ်, ကူး, သစ်, ငွေ, သား, က...\n",
      "Name: tokenized_text, Length: 19347, dtype: object\n"
     ]
    }
   ],
   "source": [
    "# Tokenize each text\n",
    "df['tokenized_text'] = df['processed_text'].apply(lambda x: x.split())\n",
    "\n",
    "# View tokenized data\n",
    "print(df['tokenized_text'])"
   ]
  },
  {
   "cell_type": "code",
   "execution_count": null,
   "metadata": {},
   "outputs": [
    {
     "name": "stdout",
     "output_type": "stream",
     "text": [
      "Word2Vec & FastText models trained and saved!\n"
     ]
    }
   ],
   "source": [
    "# Convert tokenized text to list of lists\n",
    "tokenized_data = df['tokenized_text'].tolist()\n",
    "\n",
    "# Train Word2Vec model\n",
    "word2vec_model = Word2Vec(sentences=tokenized_data, vector_size=300, window=5, min_count=1, workers=4)\n",
    "word2vec_model.save(\"word2vec.model\")  # Save model\n",
    "\n",
    "# Train FastText model\n",
    "fasttext_model = FastText(sentences=tokenized_data, vector_size=300, window=5, min_count=1, workers=4)\n",
    "fasttext_model.save(\"fasttext.model\")  # Save model\n",
    "\n",
    "print(\"Word2Vec & FastText models trained and saved!\")"
   ]
  },
  {
   "cell_type": "code",
   "execution_count": 1,
   "metadata": {},
   "outputs": [],
   "source": [
    "from gensim.models import Word2Vec, FastText\n",
    "\n",
    "# Load trained models\n",
    "word2vec_model = Word2Vec.load(\"word2vec.model\")\n",
    "fasttext_model = FastText.load(\"fasttext.model\")"
   ]
  },
  {
   "cell_type": "code",
   "execution_count": 2,
   "metadata": {},
   "outputs": [
    {
     "name": "stdout",
     "output_type": "stream",
     "text": [
      "Word2Vec Vocabulary Size: 23926\n",
      "FastText Vocabulary Size: 23926\n",
      "Word2Vec Sample Words: ['အ', 'phone_contact', 'င့်', 'ငွေ', 'web_link', 'ယူ', 'သ', 'စ', 'ရန်', 'စား']\n",
      "FastText Sample Words: ['အ', 'phone_contact', 'င့်', 'ငွေ', 'web_link', 'ယူ', 'သ', 'စ', 'ရန်', 'စား']\n"
     ]
    }
   ],
   "source": [
    "print(\"Word2Vec Vocabulary Size:\", len(word2vec_model.wv))\n",
    "print(\"FastText Vocabulary Size:\", len(fasttext_model.wv))\n",
    "\n",
    "# Example: List first 10 words\n",
    "print(\"Word2Vec Sample Words:\", list(word2vec_model.wv.index_to_key[:10]))\n",
    "print(\"FastText Sample Words:\", list(fasttext_model.wv.index_to_key[:10]))"
   ]
  },
  {
   "cell_type": "code",
   "execution_count": 3,
   "metadata": {},
   "outputs": [
    {
     "name": "stdout",
     "output_type": "stream",
     "text": [
      "Word2Vec vector for 'ငွေ': [-0.23587358 -1.5998693  -0.25326586  0.6403252  -0.62498116  0.5773166\n",
      " -1.2671801   0.60439855 -0.7648285  -0.37579128]\n",
      "FastText vector for 'ငွေ': [-0.5248665  -0.6629582  -0.16998874 -0.25465372 -0.27962977  1.6010631\n",
      " -0.1650189  -0.25672513 -0.3460517   0.15933405]\n"
     ]
    }
   ],
   "source": [
    "word_vector = word2vec_model.wv[\"ငွေ\"]\n",
    "print(\"Word2Vec vector for 'ငွေ':\", word_vector[:10])  # Show first 10 values\n",
    "\n",
    "fasttext_vector = fasttext_model.wv[\"ငွေ\"]\n",
    "print(\"FastText vector for 'ငွေ':\", fasttext_vector[:10])"
   ]
  }
 ],
 "metadata": {
  "kernelspec": {
   "display_name": "Python 3",
   "language": "python",
   "name": "python3"
  },
  "language_info": {
   "codemirror_mode": {
    "name": "ipython",
    "version": 3
   },
   "file_extension": ".py",
   "mimetype": "text/x-python",
   "name": "python",
   "nbconvert_exporter": "python",
   "pygments_lexer": "ipython3",
   "version": "3.9.0"
  }
 },
 "nbformat": 4,
 "nbformat_minor": 2
}
